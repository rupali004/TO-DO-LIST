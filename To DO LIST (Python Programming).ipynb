{
 "cells": [
  {
   "cell_type": "markdown",
   "id": "7e2d89e0",
   "metadata": {},
   "source": [
    "# CODEWAY Internship Task"
   ]
  },
  {
   "cell_type": "markdown",
   "id": "399eccd0",
   "metadata": {},
   "source": [
    "# Python Programming"
   ]
  },
  {
   "cell_type": "markdown",
   "id": "92712996",
   "metadata": {},
   "source": [
    "# Task - 1"
   ]
  },
  {
   "cell_type": "markdown",
   "id": "45763423",
   "metadata": {},
   "source": [
    "A To-Do List application is a useful project that helps users manage and organize their tasks efficiently. This project aims to create a\n",
    "command-line or GUI-based application using Python, allowing users to create, update, and track their to-do lists."
   ]
  },
  {
   "cell_type": "markdown",
   "id": "d05333b1",
   "metadata": {},
   "source": [
    "# TO-DO-LIST"
   ]
  },
  {
   "cell_type": "code",
   "execution_count": 15,
   "id": "c2cf65ab",
   "metadata": {},
   "outputs": [
    {
     "name": "stdout",
     "output_type": "stream",
     "text": [
      "\n",
      " To DO List Application\n",
      "1. Add Task\n",
      "2. Remove Task\n",
      "3. Display Tasks\n",
      "4. Exit\n",
      "Enter your choice: 1\n",
      "Enetr task:Hi everyone...\n",
      "Task added Successfully!!\n",
      "\n",
      " To DO List Application\n",
      "1. Add Task\n",
      "2. Remove Task\n",
      "3. Display Tasks\n",
      "4. Exit\n",
      "Enter your choice: 3\n",
      "Tasks:\n",
      "1.Hi everyone...\n",
      "\n",
      " To DO List Application\n",
      "1. Add Task\n",
      "2. Remove Task\n",
      "3. Display Tasks\n",
      "4. Exit\n",
      "Enter your choice: 1\n",
      "Enetr task:how are you???\n",
      "Task added Successfully!!\n",
      "\n",
      " To DO List Application\n",
      "1. Add Task\n",
      "2. Remove Task\n",
      "3. Display Tasks\n",
      "4. Exit\n",
      "Enter your choice: 2\n",
      "Tasks:\n",
      "1.Hi everyone...\n",
      "2.how are you???\n",
      "Enter index of task to remove:2\n",
      "Task removed successfully\n",
      "\n",
      " To DO List Application\n",
      "1. Add Task\n",
      "2. Remove Task\n",
      "3. Display Tasks\n",
      "4. Exit\n",
      "Enter your choice: 4\n",
      "Exiting application.\n"
     ]
    }
   ],
   "source": [
    "class TodoList:\n",
    "    def __init__(self):\n",
    "        self.tasks =[]\n",
    "        \n",
    "    def add_task(self,task):\n",
    "        self.tasks.append(task)\n",
    "        print(\"Task added Successfully!!\")\n",
    "    \n",
    "    def remove_task(self,task_index):\n",
    "        try:\n",
    "            del self.tasks[task_index]\n",
    "            print(\"Task removed successfully\")\n",
    "        except IndexError:\n",
    "            print(\"Invalid task index!\")\n",
    "    \n",
    "    def display_tasks(self):\n",
    "            if self.tasks:\n",
    "                print(\"Tasks:\")\n",
    "                for i,task in enumerate(self.tasks):\n",
    "                    print(f\"{i + 1}.{task}\")\n",
    "            else:\n",
    "                print(\"No tasks to display.\")\n",
    "                \n",
    "def main():\n",
    "    todo_list = TodoList()\n",
    "    \n",
    "    while True:\n",
    "        print(\"\\n To DO List Application\")\n",
    "        print(\"1. Add Task\")\n",
    "        print(\"2. Remove Task\")\n",
    "        print(\"3. Display Tasks\")\n",
    "        print(\"4. Exit\")\n",
    "        \n",
    "        choice = input(\"Enter your choice: \")\n",
    "        \n",
    "        if choice == \"1\":\n",
    "            task = input(\"Enetr task:\")\n",
    "            todo_list.add_task(task)\n",
    "        elif choice ==\"2\":\n",
    "            if todo_list.tasks:\n",
    "                todo_list.display_tasks()\n",
    "                task_index = int(input(\"Enter index of task to remove:\")) -1\n",
    "                todo_list.remove_task(task_index)\n",
    "            else:\n",
    "                print(\"No tasks to remove.\")\n",
    "        elif choice == \"3\":\n",
    "            todo_list.display_tasks()\n",
    "        elif choice ==\"4\":\n",
    "            print(\"Exiting application.\")\n",
    "            break\n",
    "        else:\n",
    "            print(\"Invalid choice. Please try again\")\n",
    "            \n",
    "if __name__ == \"__main__\":\n",
    "    main()"
   ]
  },
  {
   "cell_type": "code",
   "execution_count": null,
   "id": "fd90d860",
   "metadata": {},
   "outputs": [],
   "source": []
  }
 ],
 "metadata": {
  "kernelspec": {
   "display_name": "Python 3 (ipykernel)",
   "language": "python",
   "name": "python3"
  },
  "language_info": {
   "codemirror_mode": {
    "name": "ipython",
    "version": 3
   },
   "file_extension": ".py",
   "mimetype": "text/x-python",
   "name": "python",
   "nbconvert_exporter": "python",
   "pygments_lexer": "ipython3",
   "version": "3.9.13"
  }
 },
 "nbformat": 4,
 "nbformat_minor": 5
}
